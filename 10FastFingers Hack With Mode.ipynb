{
 "cells": [
  {
   "cell_type": "code",
   "execution_count": null,
   "id": "7a177459",
   "metadata": {},
   "outputs": [],
   "source": [
    "import pyautogui\n",
    "import time\n",
    "import bs4\n",
    "from selenium import webdriver\n",
    "from selenium.webdriver.chrome.options import Options\n",
    "from selenium.webdriver.chrome.service import Service\n",
    "from selenium.webdriver.common.by import By"
   ]
  },
  {
   "cell_type": "code",
   "execution_count": null,
   "id": "f01a8da6",
   "metadata": {},
   "outputs": [],
   "source": [
    "DRIVER_PATH = \"C:\\Chromedriver\\chromedriver.exe\""
   ]
  },
  {
   "cell_type": "code",
   "execution_count": null,
   "id": "b6af05a3",
   "metadata": {},
   "outputs": [],
   "source": [
    "class FastFingers10:\n",
    "    def __init__(self,):\n",
    "        self.url = \"https://10fastfingers.com/typing-test/english\"\n",
    "        self.options = Options()\n",
    "        self.options.headless = False\n",
    "\n",
    "    def openRace(self):\n",
    "        self.driver = webdriver.Chrome(service=Service(DRIVER_PATH),options=self.options)\n",
    "        self.driver.get(self.url)\n",
    "        \n",
    "    def getWords(self):\n",
    "        html = self.driver.page_source\n",
    "        soup = bs4.BeautifulSoup(html,'html.parser')\n",
    "        words = [i.text.strip() for i in (soup.find('div',{'id' : 'row1'}).findAll('span'))]\n",
    "        return words"
   ]
  },
  {
   "cell_type": "code",
   "execution_count": null,
   "id": "af8e2e2c",
   "metadata": {},
   "outputs": [],
   "source": [
    "class TypeRacer:\n",
    "    def __init__(self):\n",
    "        self.url = \"https://play.typeracer.com/\"\n",
    "        self.options = Options()\n",
    "        self.options.headless = False\n",
    "        \n",
    "    def getWordsTypeRacer(self):\n",
    "        html = self.driver.page_source\n",
    "        soup = bs4.BeautifulSoup(html,'html.parser')\n",
    "        words = \"\"\n",
    "        for i in soup.findAll(\"span\",{'unselectable' : 'on'}):\n",
    "            words += i.text\n",
    "        return words.strip().split(' ')\n",
    "\n",
    "    def openRace(self):\n",
    "        self.driver = webdriver.Chrome(service=Service(DRIVER_PATH),options=self.options)\n",
    "        self.driver.get(self.url)"
   ]
  },
  {
   "cell_type": "code",
   "execution_count": null,
   "id": "786cfff3",
   "metadata": {},
   "outputs": [],
   "source": [
    "class Modes:\n",
    "    def __init__(self,words):\n",
    "        self.words = words\n",
    "        \n",
    "    def setWords(self,words):\n",
    "        self.words = words\n",
    "    \n",
    "    def getWords(self):\n",
    "        return self.words\n",
    "\n",
    "    def beastMode(self):\n",
    "        for i in self.words:\n",
    "            pyautogui.typewrite(i)\n",
    "            pyautogui.press(\"space\")\n",
    "\n",
    "    def mediumMode(self):\n",
    "        for i in self.words:\n",
    "            pyautogui.typewrite(i[0:len(i)//2])\n",
    "            pyautogui.typewrite(i[len(i)//2:])\n",
    "            pyautogui.press(\"space\")   \n",
    "\n",
    "    def naturalMode(self):\n",
    "        text = list(\" \".join(self.words))\n",
    "        for i in text:\n",
    "            if i == \" \":\n",
    "                pyautogui.press(\"space\")\n",
    "            else:\n",
    "                pyautogui.typewrite(i)"
   ]
  },
  {
   "cell_type": "code",
   "execution_count": null,
   "id": "84f77806",
   "metadata": {},
   "outputs": [],
   "source": [
    "raceff = FastFingers10()"
   ]
  },
  {
   "cell_type": "code",
   "execution_count": null,
   "id": "2e32ae1e",
   "metadata": {},
   "outputs": [],
   "source": [
    "raceff.openRace()"
   ]
  },
  {
   "cell_type": "code",
   "execution_count": null,
   "id": "08f3db4a",
   "metadata": {},
   "outputs": [],
   "source": [
    "words = raceff.getWords()"
   ]
  },
  {
   "cell_type": "code",
   "execution_count": null,
   "id": "e194779c",
   "metadata": {},
   "outputs": [],
   "source": [
    "mode = Modes(words)"
   ]
  },
  {
   "cell_type": "code",
   "execution_count": null,
   "id": "70d27531",
   "metadata": {},
   "outputs": [],
   "source": [
    "time.sleep(1)\n",
    "mode.naturalMode()"
   ]
  }
 ],
 "metadata": {
  "kernelspec": {
   "display_name": "Python 3 (ipykernel)",
   "language": "python",
   "name": "python3"
  },
  "language_info": {
   "codemirror_mode": {
    "name": "ipython",
    "version": 3
   },
   "file_extension": ".py",
   "mimetype": "text/x-python",
   "name": "python",
   "nbconvert_exporter": "python",
   "pygments_lexer": "ipython3",
   "version": "3.10.4"
  }
 },
 "nbformat": 4,
 "nbformat_minor": 5
}
